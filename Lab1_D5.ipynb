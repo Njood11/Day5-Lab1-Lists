{
 "cells": [
  {
   "cell_type": "code",
   "execution_count": 20,
   "id": "a5468412",
   "metadata": {},
   "outputs": [
    {
     "name": "stdout",
     "output_type": "stream",
     "text": [
      "139\n",
      "45\n",
      "[4, 30, 2, 10]\n",
      "[5, 4, 17, 19, 30]\n"
     ]
    }
   ],
   "source": [
    "sum=0\n",
    "i=0            \n",
    "newlst=[]\n",
    "newlst2=[]\n",
    "\n",
    "lst = [5, 4, 17, 19, 30, 2, 7, 10, 45]\n",
    "while i < 5:\n",
    "    newlst2.append(lst[i])  \n",
    "    i+=1\n",
    "\n",
    "for x in lst:\n",
    "    sum += x\n",
    "        \n",
    "\n",
    "for item in lst:\n",
    "    if item%2==0:\n",
    "        newlst.append(item)\n",
    "\n",
    " \n",
    " \n",
    "    \n",
    "maxnum=max(lst)\n",
    "print (sum)\n",
    "print (maxnum)\n",
    "print (newlst)\n",
    "print (newlst2)\n"
   ]
  },
  {
   "cell_type": "code",
   "execution_count": null,
   "id": "3edf2ecd",
   "metadata": {},
   "outputs": [],
   "source": []
  }
 ],
 "metadata": {
  "kernelspec": {
   "display_name": "Python 3 (ipykernel)",
   "language": "python",
   "name": "python3"
  },
  "language_info": {
   "codemirror_mode": {
    "name": "ipython",
    "version": 3
   },
   "file_extension": ".py",
   "mimetype": "text/x-python",
   "name": "python",
   "nbconvert_exporter": "python",
   "pygments_lexer": "ipython3",
   "version": "3.9.13"
  }
 },
 "nbformat": 4,
 "nbformat_minor": 5
}
